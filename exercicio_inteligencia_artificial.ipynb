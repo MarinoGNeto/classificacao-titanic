{
  "cells": [
    {
      "cell_type": "markdown",
      "metadata": {
        "id": "oTJHjSYIl1_W"
      },
      "source": [
        "Exercício Inteligência Artificial"
      ]
    },
    {
      "cell_type": "code",
      "execution_count": null,
      "metadata": {
        "colab": {
          "base_uri": "https://localhost:8080/"
        },
        "id": "6HtwPy-Vl5Us",
        "outputId": "96dcadf0-1449-40d5-a659-71f17d214f67"
      },
      "outputs": [
        {
          "ename": "",
          "evalue": "",
          "output_type": "error",
          "traceback": [
            "\u001b[1;31mRunning cells with 'Python 3.11.9' requires the ipykernel package.\n",
            "\u001b[1;31mRun the following command to install 'ipykernel' into the Python environment. \n",
            "\u001b[1;31mCommand: '\"c:/Users/Marino Neto/AppData/Local/Microsoft/WindowsApps/python3.11.exe\" -m pip install ipykernel -U --user --force-reinstall'"
          ]
        }
      ],
      "source": [
        "# Parte 1: Pré-processamento dos Dados\n",
        "\n",
        "# ----- 1. Carregar a Base de Dados no Google Colab -----\n",
        "import pandas as pd # Utilize a biblioteca pandas para carregar o arquivo CSV.\n",
        "\n",
        "genderSubmissionFile = pd.read_csv('gender_submission.csv')\n",
        "testFile = pd.read_csv('test.csv')\n",
        "trainFile = pd.read_csv('train.csv')\n",
        "\n",
        "# Explore os dados usando comandos como df.head(), df.info() e df.describe().\n",
        "print('----- Gender Submission File data -----\\n')\n",
        "print(genderSubmissionFile.head())\n",
        "print(genderSubmissionFile.info())\n",
        "print(genderSubmissionFile.describe())\n",
        "\n",
        "print('\\n----- Test File data -----\\n')\n",
        "print(testFile.head())\n",
        "print(testFile.info())\n",
        "print(testFile.describe())\n",
        "\n",
        "print('\\n----- Train File data -----\\n')\n",
        "print(trainFile.head())\n",
        "print(trainFile.info())\n",
        "print(trainFile.describe())\n",
        "\n",
        "# ----- 2. Limpeza de Dados -----\n",
        "# Identificar valores ausentes\n",
        "print('\\nIdentificando valores ausentes em arquivo gender_submission.csv... ')\n",
        "print(genderSubmissionFile.isnull().sum())\n",
        "\n",
        "print('\\nIdentificando valores ausentes em arquivo test.csv... ')\n",
        "print(testFile.isnull().sum())\n",
        "\n",
        "print('\\nIdentificando valores ausentes em arquivo train.csv... ')\n",
        "print(trainFile.isnull().sum())\n",
        "\n",
        "# Preencher valores ausentes na coluna 'Age' com a mediana\n",
        "testFile['Age'] = testFile['Age'].fillna(testFile['Age'].median())\n",
        "testFile['Fare'] = testFile['Fare'].fillna(testFile['Fare'].median())\n",
        "testFile.dropna(subset=['Cabin'], inplace=True)\n",
        "\n",
        "trainFile['Age'] = trainFile['Age'].fillna(trainFile['Age'].median())\n",
        "trainFile.dropna(subset=['Cabin'], inplace=True)\n",
        "trainFile.dropna(subset=['Embarked'], inplace=True)\n",
        "\n",
        "print('\\nSegue os valores que se encontram ausentes durante o tratamento do arquivo:')\n",
        "print(trainFile.isnull().sum())\n",
        "\n",
        "# ----- 3. Seleção de Variáveis -----\n",
        "\n",
        "# Converter 'Sex' para variáveis numéricas\n",
        "testFile = pd.get_dummies(testFile, columns=['Sex'], drop_first=True)\n",
        "trainFile = pd.get_dummies(trainFile, columns=['Sex'], drop_first=True)\n",
        "\n",
        "# ----- 4. Divisão dos Dados -----\n",
        "\n",
        "# Selecionar as variáveis de entrada (X) e saída (y)\n",
        "\n",
        "X = trainFile[['Pclass', 'Sex_male', 'Age', 'Fare']]\n",
        "y = trainFile['Survived']\n",
        "\n",
        "X_test = testFile[['Pclass', 'Sex_male', 'Age', 'Fare']]\n",
        "\n",
        "# Parte 2: Implementação Simples de um Algoritmo de Classificação (k-NN)\n",
        "\n",
        "# ----- 1. Importar e Treinar o Modelo: -----\n",
        "from sklearn.neighbors import KNeighborsClassifier\n",
        "from sklearn.model_selection import train_test_split\n",
        "\n",
        "# Dividir os dados de treino em treino e validação (70/30)\n",
        "X_train, X_test, y_train, y_test = train_test_split(X, y, test_size=0.3, random_state=42)\n",
        "\n",
        "# Treinar o modelo com k=3\n",
        "knn = KNeighborsClassifier(n_neighbors=3)\n",
        "knn.fit(X_train, y_train)\n",
        "\n",
        "# ----- 2. Fazer Previsões: -----\n",
        "y_pred = knn.predict(X_test)\n",
        "print('Previsão:', y_pred)\n",
        "\n",
        "# Parte 3: Avaliação de Desempenho\n",
        "\n",
        "from sklearn.metrics import accuracy_score, confusion_matrix\n",
        "\n",
        "# Avaliar desempenho\n",
        "accuracy = accuracy_score(y_test, y_pred)\n",
        "print(f'Acurácia: {accuracy:.2f}')\n",
        "\n",
        "cm = confusion_matrix(y_test, y_pred)\n",
        "print(\"Matriz de Confusão:\")\n",
        "print(cm)"
      ]
    }
  ],
  "metadata": {
    "colab": {
      "provenance": []
    },
    "kernelspec": {
      "display_name": "Python 3",
      "name": "python3"
    },
    "language_info": {
      "name": "python",
      "version": "3.11.9"
    }
  },
  "nbformat": 4,
  "nbformat_minor": 0
}
